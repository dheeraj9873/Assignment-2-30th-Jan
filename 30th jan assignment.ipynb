{
 "cells": [
  {
   "cell_type": "code",
   "execution_count": 1,
   "id": "794cb1f1-0975-4494-9295-bfce40276c14",
   "metadata": {},
   "outputs": [],
   "source": [
    "#Q1 Write a program to accept percentage from the user and display the grade according to the following criteria:"
   ]
  },
  {
   "cell_type": "code",
   "execution_count": 5,
   "id": "9b9b7e24-39fa-407d-99b4-bc3b186d71ac",
   "metadata": {},
   "outputs": [
    {
     "name": "stdin",
     "output_type": "stream",
     "text": [
      "enter the marks 59\n"
     ]
    },
    {
     "name": "stdout",
     "output_type": "stream",
     "text": [
      "Grade D\n"
     ]
    }
   ],
   "source": [
    "marks = int(input(\"enter the marks\"))\n",
    "if marks >90:\n",
    "    print(\"Grade A\")\n",
    "elif marks >80 and marks<=90:\n",
    "    print(\"Grade B\")\n",
    "elif marks >=80 and marks<=60:\n",
    "    print(\"Grade C\")\n",
    "else :\n",
    "    print(\"Grade D\")"
   ]
  },
  {
   "cell_type": "code",
   "execution_count": 9,
   "id": "888d7611-18c3-4583-bb6f-0283f65ef41d",
   "metadata": {},
   "outputs": [
    {
     "name": "stdin",
     "output_type": "stream",
     "text": [
      "enter the cost price of the bike 500000\n"
     ]
    },
    {
     "name": "stdout",
     "output_type": "stream",
     "text": [
      "Tax = 15%\n"
     ]
    }
   ],
   "source": [
    "#Q2 Write a program to accept the cost price of a bike and display the road tax to be paid according to the following criteria:\n",
    "cost_price = int(input(\"enter the cost price of the bike\"))\n",
    "if cost_price>100000:\n",
    "    print (\"Tax = 15%\")\n",
    "elif cost_price > 50000 and cost_price  <=100000:\n",
    "    print (\"Tax = 10%\")\n",
    "else :\n",
    "    print (\"Tax = 5%\")"
   ]
  },
  {
   "cell_type": "code",
   "execution_count": 11,
   "id": "8543a3a7-0475-44c9-8522-6df2541e658f",
   "metadata": {},
   "outputs": [
    {
     "name": "stdin",
     "output_type": "stream",
     "text": [
      "enter the city Agra\n"
     ]
    },
    {
     "name": "stdout",
     "output_type": "stream",
     "text": [
      "Taj Mahal\n"
     ]
    }
   ],
   "source": [
    "#Q3 Accept any city from the user and display monuments of that city:\n",
    "city = str(input(\"enter the city\"))\n",
    "if city == \"Delhi\" or city == \"delhi\" or city==\"DELHI\":\n",
    "    print (\"Red Fort\")\n",
    "elif city == \"Agra\" or city == \"agra\" or city==\"AGRA\":\n",
    "    print (\"Taj Mahal\")\n",
    "elif city == \"Jaipur\" or city==\"jaipur\" or city==\"JAIPUR\" :\n",
    "    print(\"Jalmahal\")\n",
    "else:\n",
    "    pass"
   ]
  },
  {
   "cell_type": "code",
   "execution_count": null,
   "id": "bdab8d8f-9418-41f0-8bbe-292aa0ea2c2f",
   "metadata": {},
   "outputs": [],
   "source": [
    "\n",
    "#Q4 Check how many times a given number can be divided by 3 before it is less than or equal to 10.\n",
    "num=int(input(\"enter the number\"))\n",
    "count=0\n",
    "while num<=10:\n",
    "    num=num/3\n",
    "    count+=1\n",
    "print(\"Number of times=\", count)"
   ]
  },
  {
   "cell_type": "code",
   "execution_count": null,
   "id": "5fa4ac05-3e94-41fe-97aa-06412b8b388e",
   "metadata": {},
   "outputs": [
    {
     "name": "stdout",
     "output_type": "stream",
     "text": [
      "Hello World\n",
      "Hello World\n",
      "Hello World\n",
      "Hello World\n"
     ]
    }
   ],
   "source": [
    "#Q5 Why and when to use while loop  in python give a detailed description with example. \n",
    "#Ans. The while loop executes a set of statements as long as a condition is true.\n",
    "i=1\n",
    "while i<5:\n",
    "    print(\"Hello World\")\n",
    "    i=i+1"
   ]
  },
  {
   "cell_type": "code",
   "execution_count": 7,
   "id": "2396cb1d-c03b-4391-a087-3e0864297527",
   "metadata": {
    "jp-MarkdownHeadingCollapsed": true,
    "tags": []
   },
   "outputs": [
    {
     "name": "stdin",
     "output_type": "stream",
     "text": [
      "Enter number of rows :  5\n"
     ]
    },
    {
     "name": "stdout",
     "output_type": "stream",
     "text": [
      "* \n",
      "* * \n",
      "* * * \n",
      "* * * * \n",
      "* * * * * \n"
     ]
    },
    {
     "name": "stdin",
     "output_type": "stream",
     "text": [
      "Enter number of rows :  5\n"
     ]
    },
    {
     "name": "stdout",
     "output_type": "stream",
     "text": [
      "* * * * * \n",
      "* * * * \n",
      "* * * \n",
      "* * \n",
      "* \n"
     ]
    },
    {
     "name": "stdin",
     "output_type": "stream",
     "text": [
      "Enter number of rows= 5\n"
     ]
    },
    {
     "name": "stdout",
     "output_type": "stream",
     "text": [
      "        * \n",
      "      * * \n",
      "    * * * \n",
      "  * * * * \n",
      "* * * * * \n",
      "  * * * * \n",
      "    * * * \n",
      "      * * \n",
      "        * \n",
      "          \n"
     ]
    }
   ],
   "source": [
    "# Q6 Use nested while loop to print 3 different patterns.\n",
    "\n",
    "# First Pattern program\n",
    "n = int(input('Enter number of rows : '))\n",
    " \n",
    "i = 1\n",
    "while i <= n :\n",
    "    j = 1\n",
    "    while j <= i:\n",
    "        print(\"*\", end = \" \")\n",
    "        j += 1\n",
    "    print()\n",
    "    i += 1\n",
    " \n",
    " # Second Pattern program   \n",
    "n = int(input('Enter number of rows : '))\n",
    " \n",
    "i = 1\n",
    "while i <= n :\n",
    "    j = n\n",
    "    while j >= i:\n",
    "        print(\"*\", end = \" \")\n",
    "        j -= 1\n",
    "    print()\n",
    "    i += 1    \n",
    "# Third pattern program    \n",
    "rows = int(input(\"Enter number of rows=\"))\n",
    "i = 1\n",
    "while i <= rows:\n",
    "    j = i\n",
    "    while j < rows:\n",
    "        # printing spaces before stars\n",
    "        print(' ', end=' ')\n",
    "        j += 1\n",
    "    k = 1\n",
    "    # print stars\n",
    "    while k <= i:\n",
    "        print('*', end=' ')\n",
    "        k += 1\n",
    "    print()\n",
    "    i += 1\n",
    "# for downside output of star pattern\n",
    "i = rows\n",
    "while i >= 1:\n",
    "    j = i\n",
    "    while j <= rows:\n",
    "        print(' ', end=' ')\n",
    "        j += 1\n",
    "    k = 1\n",
    "    while k < i:\n",
    "        print('*', end=' ')\n",
    "        k += 1\n",
    "    print('')\n",
    "    i -= 1    "
   ]
  },
  {
   "cell_type": "code",
   "execution_count": 8,
   "id": "5fc43e2c-6cdc-48b3-9437-c201e5ac291b",
   "metadata": {},
   "outputs": [
    {
     "name": "stdout",
     "output_type": "stream",
     "text": [
      "10\n",
      "9\n",
      "8\n",
      "7\n",
      "6\n",
      "5\n",
      "4\n",
      "3\n",
      "2\n",
      "1\n"
     ]
    }
   ],
   "source": [
    "#Q7 OR Q8 because both are same questions.\n",
    "# Reverse a while loop to display numbers from 10 to 1.\n",
    "num=10\n",
    "while num>0:\n",
    "    print(num)\n",
    "    num-=1"
   ]
  },
  {
   "cell_type": "code",
   "execution_count": null,
   "id": "964b244a-b575-4962-b7b9-ae7db999c060",
   "metadata": {},
   "outputs": [],
   "source": []
  }
 ],
 "metadata": {
  "kernelspec": {
   "display_name": "Python 3 (ipykernel)",
   "language": "python",
   "name": "python3"
  },
  "language_info": {
   "codemirror_mode": {
    "name": "ipython",
    "version": 3
   },
   "file_extension": ".py",
   "mimetype": "text/x-python",
   "name": "python",
   "nbconvert_exporter": "python",
   "pygments_lexer": "ipython3",
   "version": "3.10.8"
  }
 },
 "nbformat": 4,
 "nbformat_minor": 5
}
